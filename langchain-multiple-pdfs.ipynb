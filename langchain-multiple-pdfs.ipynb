{
 "cells": [
  {
   "cell_type": "code",
   "execution_count": null,
   "metadata": {},
   "outputs": [],
   "source": []
  },
  {
   "cell_type": "code",
   "execution_count": 1,
   "metadata": {},
   "outputs": [],
   "source": []
  },
  {
   "cell_type": "code",
   "execution_count": 2,
   "metadata": {},
   "outputs": [],
   "source": [
    "import openai\n",
    "import os\n",
    "import sys\n",
    "sys.path.append(\"../doc\")\n",
    "\n",
    "from dotenv import load_dotenv, find_dotenv\n",
    "_ = load_dotenv(find_dotenv()) # read local .env file\n",
    "\n",
    "openai.api_key = os.environ[\"OPENAI_API_KEY\"]"
   ]
  },
  {
   "cell_type": "code",
   "execution_count": 3,
   "metadata": {},
   "outputs": [],
   "source": [
    "from langchain.document_loaders import UnstructuredPDFLoader\n",
    "from langchain.indexes import VectorstoreIndexCreator"
   ]
  },
  {
   "cell_type": "code",
   "execution_count": 8,
   "metadata": {},
   "outputs": [],
   "source": [
    "pdf_folder_path = \"docs/gnm_reports\""
   ]
  },
  {
   "cell_type": "code",
   "execution_count": 9,
   "metadata": {},
   "outputs": [
    {
     "data": {
      "text/plain": [
       "['global_market_analysis_may23.pdf',\n",
       " 'global_market_analysis_apr23.pdf',\n",
       " 'global_market_analysis_mar23.pdf']"
      ]
     },
     "execution_count": 9,
     "metadata": {},
     "output_type": "execute_result"
    }
   ],
   "source": [
    "os.listdir(pdf_folder_path)"
   ]
  },
  {
   "cell_type": "code",
   "execution_count": 14,
   "metadata": {},
   "outputs": [],
   "source": [
    "loaders = [UnstructuredPDFLoader(os.path.join(pdf_folder_path, fn)) for fn in os.listdir(pdf_folder_path)]"
   ]
  },
  {
   "cell_type": "code",
   "execution_count": 15,
   "metadata": {},
   "outputs": [
    {
     "data": {
      "text/plain": [
       "[<langchain.document_loaders.pdf.UnstructuredPDFLoader at 0x11fc6de20>,\n",
       " <langchain.document_loaders.pdf.UnstructuredPDFLoader at 0x11fc6dc70>,\n",
       " <langchain.document_loaders.pdf.UnstructuredPDFLoader at 0x11fc6ddc0>]"
      ]
     },
     "execution_count": 15,
     "metadata": {},
     "output_type": "execute_result"
    }
   ],
   "source": [
    "loaders"
   ]
  },
  {
   "cell_type": "code",
   "execution_count": 16,
   "metadata": {},
   "outputs": [
    {
     "name": "stderr",
     "output_type": "stream",
     "text": [
      "[nltk_data] Downloading package punkt to /Users/yeo/nltk_data...\n",
      "[nltk_data]   Unzipping tokenizers/punkt.zip.\n",
      "[nltk_data] Downloading package averaged_perceptron_tagger to\n",
      "[nltk_data]     /Users/yeo/nltk_data...\n",
      "[nltk_data]   Unzipping taggers/averaged_perceptron_tagger.zip.\n"
     ]
    },
    {
     "data": {
      "text/plain": [
       "VectorStoreIndexWrapper(vectorstore=<langchain.vectorstores.chroma.Chroma object at 0x11fc600a0>)"
      ]
     },
     "execution_count": 16,
     "metadata": {},
     "output_type": "execute_result"
    }
   ],
   "source": [
    "index = VectorstoreIndexCreator().from_loaders(loaders)\n",
    "index"
   ]
  },
  {
   "cell_type": "code",
   "execution_count": 36,
   "metadata": {},
   "outputs": [],
   "source": [
    "x = loaders[0].load()"
   ]
  },
  {
   "cell_type": "code",
   "execution_count": 42,
   "metadata": {},
   "outputs": [
    {
     "data": {
      "text/plain": [
       "'ayments (CDR)\\n\\n4.3 Voluntary Prepayment Rates (CRR) .....................................................................13 13 4.3 Voluntary Prepayment Rates (CRR)\\n\\n5 5\\n\\n14 Single-Family MBS Pass-Through Issuance .............................................................14 Single-Family MBS Pass-Through Issuance\\n\\n5.1 Gross Issuance of Agency MBS ........................................................................... 5.1 Gross Issuance of Agency MBS\\n\\n14\\n\\n...............................................................................\\n\\n5.2 Net Issuance of Agency MBS\\n\\n16\\n\\n...............................................................................\\n\\n5.3 Monthly Issuance Breakdown\\n\\n18\\n\\n..............................................................\\n\\n5.4 Percent Refi at Issuance – Single-Family\\n\\n19\\n\\n6\\n\\n20\\n\\n...................................................................\\n\\nAgency Single-Family MBS Outstanding\\n\\n...............................................................\\n\\n6.1 Outs'"
      ]
     },
     "execution_count": 42,
     "metadata": {},
     "output_type": "execute_result"
    }
   ],
   "source": [
    "x[0].page_content[2500:3500]"
   ]
  },
  {
   "cell_type": "code",
   "execution_count": 20,
   "metadata": {},
   "outputs": [
    {
     "data": {
      "text/plain": [
       "\" In March 2023, Freddie Mac's refinance percentage rose to 13.8%, Fannie Mae's refinance percentage rose to 17.0%, Ginnie Mae's refinance percentage rose to 15.0%, FHA's refinance percentage rose to 14.3%, and VA's refinance percentage rose to 16.9%. In May 2023, Freddie Mac's refinance percentage dropped to 12.8%, Fannie Mae's refinance percentage dropped to 14.0%, Ginnie Mae's refinance percentage rose to 16.1%, FHA's refinance percentage rose to 15.6%, and VA's refinance percentage rose to 17.6%.\""
      ]
     },
     "execution_count": 20,
     "metadata": {},
     "output_type": "execute_result"
    }
   ],
   "source": [
    "index.query(\"What is the key difference in refinancing between Mar 2023 and May 2023?\")"
   ]
  },
  {
   "cell_type": "code",
   "execution_count": 21,
   "metadata": {},
   "outputs": [
    {
     "data": {
      "text/plain": [
       "{'question': 'What is the key difference in refinancing between Mar 2023 and May 2023?',\n",
       " 'answer': ' The key difference in refinancing between March 2023 and May 2023 is that the average 30-year fixed rate mortgage rate increased by 7 bps and the average 15-year fixed rate mortgage rate increased by 11 bps.\\n',\n",
       " 'sources': 'docs/gnm_reports/global_market_analysis_mar23.pdf, docs/gnm_reports/global_market_analysis_apr23.pdf, docs/gnm_reports/global_market_analysis_may23.pdf'}"
      ]
     },
     "execution_count": 21,
     "metadata": {},
     "output_type": "execute_result"
    }
   ],
   "source": [
    "index.query_with_sources (\"What is the key difference in refinancing between Mar 2023 and May 2023?\")"
   ]
  },
  {
   "cell_type": "code",
   "execution_count": 32,
   "metadata": {},
   "outputs": [],
   "source": [
    "from langchain.vectorstores import Chroma\n",
    "from langchain.embeddings import OpenAIEmbeddings\n",
    "from langchain.text_splitter import CharacterTextSplitter"
   ]
  },
  {
   "cell_type": "code",
   "execution_count": 33,
   "metadata": {},
   "outputs": [
    {
     "name": "stderr",
     "output_type": "stream",
     "text": [
      "Created a chunk of size 1092, which is longer than the specified 1000\n",
      "Created a chunk of size 1096, which is longer than the specified 1000\n",
      "Created a chunk of size 1104, which is longer than the specified 1000\n"
     ]
    }
   ],
   "source": [
    "index_custom = VectorstoreIndexCreator(\n",
    "    vectorstore_cls=Chroma,\n",
    "    embedding=OpenAIEmbeddings(),\n",
    "    text_splitter=CharacterTextSplitter(chunk_size=1000, chunk_overlap=150)\n",
    ").from_loaders(loaders)"
   ]
  },
  {
   "cell_type": "code",
   "execution_count": null,
   "metadata": {},
   "outputs": [],
   "source": []
  },
  {
   "cell_type": "code",
   "execution_count": 34,
   "metadata": {},
   "outputs": [
    {
     "data": {
      "text/plain": [
       "{'question': 'What is the key difference in refinancing between Mar 2023 and May 2023?',\n",
       " 'answer': ' The key difference in refinancing between March 2023 and May 2023 is that the average 30-year fixed rate mortgage rate increased by 7 bps and the average 15-year fixed rate mortgage rate increased by 11 bps.\\n',\n",
       " 'sources': 'docs/gnm_reports/global_market_analysis_mar23.pdf, docs/gnm_reports/global_market_analysis_apr23.pdf, docs/gnm_reports/global_market_analysis_may23.pdf'}"
      ]
     },
     "execution_count": 34,
     "metadata": {},
     "output_type": "execute_result"
    }
   ],
   "source": [
    "index.query_with_sources (\"What is the key difference in refinancing between Mar 2023 and May 2023?\")"
   ]
  },
  {
   "cell_type": "code",
   "execution_count": 45,
   "metadata": {},
   "outputs": [
    {
     "data": {
      "text/plain": [
       "{'question': 'What is the key benefit of investing in MBS?',\n",
       " 'answer': ' The key benefit of investing in MBS is that they allow investors with different investment horizons, risk-reward preferences, and asset-liability management requirements to purchase MBS tailored to their needs.\\n',\n",
       " 'sources': 'https://www.ginniemae.gov/about_us/what_we_do/pages/programs_products.aspx'}"
      ]
     },
     "execution_count": 45,
     "metadata": {},
     "output_type": "execute_result"
    }
   ],
   "source": [
    "index.query_with_sources (\"What is the key benefit of investing in MBS?\")"
   ]
  }
 ],
 "metadata": {
  "interpreter": {
   "hash": "4d58a963836dd33eb5ff9b59551588ae2893d322de45909ccc768763140b4d5f"
  },
  "kernelspec": {
   "display_name": "Python 3.9.10 64-bit ('research')",
   "language": "python",
   "name": "python3"
  },
  "language_info": {
   "codemirror_mode": {
    "name": "ipython",
    "version": 3
   },
   "file_extension": ".py",
   "mimetype": "text/x-python",
   "name": "python",
   "nbconvert_exporter": "python",
   "pygments_lexer": "ipython3",
   "version": "3.9.10"
  },
  "orig_nbformat": 4
 },
 "nbformat": 4,
 "nbformat_minor": 2
}
