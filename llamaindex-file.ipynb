{
 "cells": [
  {
   "cell_type": "code",
   "execution_count": 5,
   "metadata": {},
   "outputs": [],
   "source": [
    "import openai\n",
    "import os\n",
    "import sys\n",
    "sys.path.append(\"../doc\")\n",
    "\n",
    "from dotenv import load_dotenv, find_dotenv\n",
    "_ = load_dotenv(find_dotenv()) # read local .env file\n",
    "\n",
    "openai.api_key = os.environ[\"OPENAI_API_KEY\"]"
   ]
  },
  {
   "cell_type": "code",
   "execution_count": 6,
   "metadata": {},
   "outputs": [],
   "source": [
    "from llama_index import GPTVectorStoreIndex"
   ]
  },
  {
   "cell_type": "code",
   "execution_count": 20,
   "metadata": {},
   "outputs": [],
   "source": [
    "from pathlib import Path\n",
    "from llama_index import download_loader\n",
    "\n",
    "PDFMinerReader = download_loader(\"PDFMinerReader\")\n"
   ]
  },
  {
   "cell_type": "code",
   "execution_count": 21,
   "metadata": {},
   "outputs": [],
   "source": [
    "loader = PDFMinerReader()\n",
    "documents = loader.load_data(file=Path('docs/ltcma-full-report.pdf'))"
   ]
  },
  {
   "cell_type": "code",
   "execution_count": 29,
   "metadata": {},
   "outputs": [
    {
     "data": {
      "text/plain": [
       "124"
      ]
     },
     "execution_count": 29,
     "metadata": {},
     "output_type": "execute_result"
    }
   ],
   "source": [
    "len(documents)"
   ]
  },
  {
   "cell_type": "code",
   "execution_count": 30,
   "metadata": {},
   "outputs": [],
   "source": [
    "from llama_index import GPTVectorStoreIndex"
   ]
  },
  {
   "cell_type": "code",
   "execution_count": 32,
   "metadata": {},
   "outputs": [],
   "source": [
    "index = GPTVectorStoreIndex.from_documents(documents)"
   ]
  },
  {
   "cell_type": "code",
   "execution_count": 38,
   "metadata": {},
   "outputs": [],
   "source": [
    "query_engine = index.as_query_engine()"
   ]
  },
  {
   "cell_type": "code",
   "execution_count": 39,
   "metadata": {},
   "outputs": [
    {
     "data": {
      "text/plain": [
       "Response(response='\\nThis report is about J.P. Morgan Asset Management and the underlying assumptions that can provide a better perspective on current conditions, particularly during periods of volatility. It also includes thematic articles.', source_nodes=[NodeWithScore(node=TextNode(id_='82c24494-dc03-455e-aba1-10292e079a61', embedding=None, metadata={'page_label': 106, 'file_name': 'ltcma-full-report.pdf'}, excluded_embed_metadata_keys=[], excluded_llm_metadata_keys=[], relationships={<NodeRelationship.SOURCE: '1'>: RelatedNodeInfo(node_id='9f2c7848-2324-4824-8053-1aadd01eb18c', node_type=None, metadata={'page_label': 106, 'file_name': 'ltcma-full-report.pdf'}, hash='f6394d4320e6f4d70b4810978bd4b666528d5b514a9c64a6a1d5e717b6217a72'), <NodeRelationship.PREVIOUS: '2'>: RelatedNodeInfo(node_id='ad03398a-15ca-4d8a-a7dd-2f8fe82ed8f1', node_type=None, metadata={'page_label': 106, 'file_name': 'ltcma-full-report.pdf'}, hash='f9053007b29dd9755fab3de08dd1d6d490080c28747d4eab2ebec31ebbd4bc4c')}, hash='c272c483c7bc2bcefcfc612c60e9123e1d0c7a8c3316f087ddee7d9d05fe1a38', text='underlying assumptions, \\nparticularly during periods of volatility, to provide a better \\nperspective on current conditions. \\n\\nJ.P. Morgan Asset Management  \\n\\n107', start_char_idx=3562, end_char_idx=3723, text_template='{metadata_str}\\n\\n{content}', metadata_template='{key}: {value}', metadata_seperator='\\n'), score=0.8048493775391742), NodeWithScore(node=TextNode(id_='facd8ad9-ece4-43b1-a0b3-a29e57db86f6', embedding=None, metadata={'page_label': 28, 'file_name': 'ltcma-full-report.pdf'}, excluded_embed_metadata_keys=[], excluded_llm_metadata_keys=[], relationships={<NodeRelationship.SOURCE: '1'>: RelatedNodeInfo(node_id='44e45ab7-0465-460d-ac67-a4f3166fee3e', node_type=None, metadata={'page_label': 28, 'file_name': 'ltcma-full-report.pdf'}, hash='09caf76d79034cdaf252793d4e144d3ff292fcd8e9e32bf61054b1360cb150ec')}, hash='7527c21f9ad72c33a4e09e9ecc9fea371347f44415980df01e06fa1c15039e9b', text='I  \\n\\n Thematic \\narticles\\n\\nJ.P. Morgan Asset Management  \\n\\n29', start_char_idx=0, end_char_idx=60, text_template='{metadata_str}\\n\\n{content}', metadata_template='{key}: {value}', metadata_seperator='\\n'), score=0.8008671070113681)], metadata={'82c24494-dc03-455e-aba1-10292e079a61': {'page_label': 106, 'file_name': 'ltcma-full-report.pdf'}, 'facd8ad9-ece4-43b1-a0b3-a29e57db86f6': {'page_label': 28, 'file_name': 'ltcma-full-report.pdf'}})"
      ]
     },
     "execution_count": 39,
     "metadata": {},
     "output_type": "execute_result"
    }
   ],
   "source": [
    "query_engine.query(\"what is this report about?\")"
   ]
  },
  {
   "cell_type": "code",
   "execution_count": 40,
   "metadata": {},
   "outputs": [
    {
     "data": {
      "text/plain": [
       "Response(response='\\nThey are saying that emerging market nations, particularly frontier market nations, have the potential to benefit from the projected global population growth over the next 25-30 years. They have young, fast-growing workforces, but lack the most productive capital assets. It will be key for these nations to have the right macro and micro policies in place to attract the capital needed to convert their favorable demographics and increasing labor force into sustained economic growth. They also stand to benefit from the capex boom ahead, as well as from the shift in globalization from goods to services and labor.', source_nodes=[NodeWithScore(node=TextNode(id_='e72ba067-5e4f-4bf0-bd70-e3ac46bbd9d7', embedding=None, metadata={'page_label': 12, 'file_name': 'ltcma-full-report.pdf'}, excluded_embed_metadata_keys=[], excluded_llm_metadata_keys=[], relationships={<NodeRelationship.SOURCE: '1'>: RelatedNodeInfo(node_id='0ed587a1-9ad4-4f78-84d9-423b1bb4bdef', node_type=None, metadata={'page_label': 12, 'file_name': 'ltcma-full-report.pdf'}, hash='76acd15ed94e88940b8e2e431148381422319425186975e55daf0a1c1a41c9cd'), <NodeRelationship.NEXT: '3'>: RelatedNodeInfo(node_id='3ef2f924-e7bc-4d48-99e9-38a311c2a22b', node_type=None, metadata={'page_label': 12, 'file_name': 'ltcma-full-report.pdf'}, hash='b56608bbe34f0c38214a778fea9e57c452da16449ea0fadd4077dd09fb03938e')}, hash='e75998d381437daed88028b551c5ec38c32dbdc3af92065be25da9537594187e', text='Toward a 10 billion person planet\\nEmerging market nations, and specifically many frontier \\nmarket nations, are potential beneficiaries of the significant \\ngrowth in global population projected over the next 25–30 \\nyears. While developed nations face the challenge of aging \\nworkforces, some of the emerging world – parts of the Middle \\nEast and South Asia, alongside much of Africa – have young, \\nfast-growing workforces. The challenge is that much of the \\nworld’s capital and productive assets are in places where the \\nworkforce is shrinking (Exhibit 7). \\n\\nRegions with a growing labor supply do not possess the most \\nproductive capital assets \\n\\nExhibit 7: Top 10 most populous nations\\n\\n2020\\n\\nChina\\n\\nIndia\\n\\n2050\\n\\nIndia\\n\\nChina\\n\\n2100\\n\\nIndia\\n\\nChina\\n\\nUnited States\\n\\nNigeria\\n\\nNigeria*\\n\\nUnited States\\n\\nDR Congo*\\n\\nIndonesia\\n\\nPakistan\\n\\nBrazil\\n\\nNigeria\\n\\nPakistan\\n\\nIndonesia\\n\\nDR Congo\\n\\nBangladesh\\n\\nBrazil\\n\\nRussia\\n\\nMexico\\n\\nEthiopia\\n\\nBangladesh\\n\\nPakistan*\\n\\nEthiopia*\\n\\nIndonesia*\\n\\nTanzania*\\n\\nBrazil*\\n\\nEgypt*\\n\\n1\\n\\n2\\n\\n3\\n\\n4\\n\\n5\\n\\n6\\n\\n7\\n\\n8\\n\\n9\\n\\n10\\n\\nShare of world GDP in PPP (2020, %)\\n\\n53\\n\\n48\\n\\n33\\n\\nSource: Haver Analytics, IMF, U.S. Census Bureau, J.P. Morgan Asset \\nManagement; data as of September 30, 2022.\\n\\n* New countries in top-10 most populous by end of 21st century\\n\\nGiven the higher cost of capital, it will be key for these younger \\nnations to have the right macro and micro policies in place \\nto attract the capital needed to convert their favorable \\ndemographics and increasing labor force into sustained \\neconomic growth. Today, the economic effect of reinforcing \\nsupply chains in developed regions through local sourcing \\nmay dominate longer-term demographic developments. But \\nas globalization shifts from goods toward services and labor, \\nwe see potential for unlocking this potential workforce – and, in \\ntime, a new, fast-growing consumer bloc. \\n\\nBack to basics\\n\\nHowever, given the strain further population growth will \\nplace on global resources (energy, food and ecosystems), \\ntogether with momentum toward net-zero,7 thoughtful and \\nsubstantial investment will be needed. While private capital, \\ninfrastructure and new asset classes like timberland are the \\nmost obvious beneficiaries of this trend, public market sectors \\nsuch as communications, technology, renewable energy and \\nconsumer goods also stand to benefit.\\n\\nCapex needs rising just as capital \\ngets\\xa0scarcer\\nPopulation growth and the need to shore up supply chain \\nfrailties point to a capex boom ahead. Financial markets, for \\na decade supported by abundant capital that lifted all assets’ \\nvaluations, will once more have to fulfill their primary social \\nand economic function of allocating scarce capital to where \\nthe return outlook is most promising. This will be a significant \\nshift, its effects felt across businesses, economies and \\nmarkets. In the world of investing, we think this shift will, at the \\nmargin, prove helpful for active investing styles. \\n\\nThe low inflation and easy policy of the 2010s have given way \\nto a backdrop of two-sided inflation risks and greater policy \\nuncertainty. Ahead, we anticipate an environment where asset \\nmarkets are driven less by central bank support (a headwind \\nfor active alpha) and more by allocating scarce capital to long-\\nrun economic trends (a tailwind for active alpha). While the \\nchallenge of selecting the right manager persists, we believe \\nthat the potential for active alpha is improving at the margin.\\n\\nEquity – valuation now a tailwind, margins \\nstill a headwind\\nThe asset market most commonly associated with active \\ninvesting decisions is equities. Last year, global equities were \\nundeniably expensive and trading at what appeared to', start_char_idx=0, end_char_idx=3665, text_template='{metadata_str}\\n\\n{content}', metadata_template='{key}: {value}', metadata_seperator='\\n'), score=0.8564852268254058), NodeWithScore(node=TextNode(id_='f625a904-576e-429a-9e35-3b1a55298d44', embedding=None, metadata={'page_label': 38, 'file_name': 'ltcma-full-report.pdf'}, excluded_embed_metadata_keys=[], excluded_llm_metadata_keys=[], relationships={<NodeRelationship.SOURCE: '1'>: RelatedNodeInfo(node_id='9ea52335-185c-457e-831e-95d524ec2429', node_type=None, metadata={'page_label': 38, 'file_name': 'ltcma-full-report.pdf'}, hash='183a68be541bfc8eb182b9f49b71bbc076fcade8c738ae4080e551c569c806dd'), <NodeRelationship.NEXT: '3'>: RelatedNodeInfo(node_id='957b3db2-547f-4a90-8f50-07028ac27cb2', node_type=None, metadata={'page_label': 38, 'file_name': 'ltcma-full-report.pdf'}, hash='8c1c821a3440bd302068074e28fb3f2464abd1507dd50d7de2d1366722bca4c6')}, hash='17c41b4df54edf6bebf96b2f0b83882302478ff1c58567c2bc7dbd0c6fc35def', text='In various sectors, the gap between U.S. and emerging market index weights has narrowed\\n\\nExhibit 10: International trade\\n\\nGlobalization will evolve – but not unravel\\n\\n15%\\n\\n10%\\n\\n5%\\n\\n0%\\n\\n-5%\\n\\n-10%\\n\\n-15%\\n\\nl\\n\\ns\\na\\ni\\nr\\ne\\nt\\na\\nM\\n\\n&\\ne\\nr\\na\\nw\\nd\\nr\\na\\nH\\nh\\nc\\ne\\nT\\n\\ns\\nr\\no\\nt\\nc\\nu\\nd\\nn\\no\\nc\\nm\\ne\\nS\\n\\ni\\n\\ns\\nm\\no\\nc\\ne\\ne\\nT\\n\\nl\\n\\ni\\n\\ng\\nn\\nk\\nn\\na\\nB\\n\\ns\\na\\nG\\n&\\n\\nl\\ni\\n\\nO\\n\\ns\\ne\\nc\\ni\\nv\\nr\\ne\\nS\\n\\nl\\n\\na\\ni\\nr\\nt\\ns\\nu\\nd\\nn\\n\\nI\\n\\ns\\ne\\ni\\nt\\ni\\nl\\ni\\nt\\nU\\n\\ns\\nt\\nc\\nu\\nd\\no\\nr\\nP\\n\\nr\\ne\\nm\\nu\\ns\\nn\\no\\nC\\n\\ny\\nr\\na\\nn\\no\\ni\\nt\\ne\\nr\\nc\\ns\\nD\\n\\ni\\n\\ne\\nt\\na\\nt\\ns\\nE\\n\\nl\\n\\na\\ne\\nR\\n\\ny\\ng\\nr\\ne\\nn\\nE\\n\\nl\\n\\ne\\nb\\na\\nw\\ne\\nn\\ne\\nR\\n\\ns\\ne\\nc\\ni\\nv\\nr\\ne\\nS\\n\\nr\\ne\\nm\\nu\\ns\\nn\\no\\nC\\n\\ny\\nr\\na\\nn\\no\\ni\\nt\\ne\\nr\\nc\\ns\\nD\\n\\ni\\n\\ns\\nt\\nc\\nu\\nd\\no\\nr\\nP\\n\\nl\\n\\ne\\np\\na\\nt\\nS\\nr\\ne\\nm\\nu\\ns\\nn\\no\\nC\\n\\nS&P 500 2002 vs MSCI EM 2002\\n\\nS&P 500 2022 vs MSCI EM 2022\\n\\nl\\n\\nl\\n\\n-\\ne\\na\\ns\\ne\\no\\nh\\nW\\n&\\n\\ne\\nc\\nn\\na\\nr\\nu\\ns\\nn\\n\\nI\\n\\ny\\nr\\na\\nn\\no\\ni\\nt\\ne\\nr\\nc\\ns\\nD\\n\\ni\\n\\nl\\ni\\n\\na\\nt\\ne\\nR\\n\\ns\\ne\\nc\\ni\\nv\\nr\\ne\\nS\\n\\nl\\n\\ni\\n\\na\\nc\\nn\\na\\nn\\nF\\n\\ni\\n\\nl\\n\\ns\\ne\\np\\na\\nt\\nS\\n\\ni\\n\\na\\nd\\ne\\nM\\n\\nl\\n\\na\\ni\\nr\\nt\\ns\\nu\\nd\\nn\\n\\nI\\n\\ns\\nt\\nc\\nu\\nd\\no\\nr\\nP\\n\\ne\\nr\\na\\nC\\nh\\nt\\nl\\na\\ne\\nH\\n\\ns\\ne\\nc\\ni\\nv\\nr\\ne\\nS\\n\\nh\\nc\\ne\\nT\\n&\\ne\\nr\\na\\nw\\n\\nt\\nf\\no\\nS\\n\\nl\\n\\n-\\ne\\na\\ns\\ne\\no\\nh\\nW\\n&\\n\\nl\\n\\nl\\ni\\n\\na\\nt\\ne\\nR\\n\\nSource: Bloomberg, MSCI, S&P Global, J.P. Morgan Asset Management; data as of July 2022, leveraging Bloomberg Industry Classification Standard (BICS). \\n\\nServices to take the lead\\n\\nTrade in services should continue to expand in a global \\neconomy that is more virtual, despite polarization. Services \\nindustries should benefit from investment in skilled labor \\nand labor-saving technologies. Economies such as India \\nand the Philippines, with high rates of English speakers and \\nestablished infrastructure, may gain in attracting foreign \\ncapital. While the rise of digital service taxes remains a risk, \\ngrowth in services trade looks set to dominate trade growth \\ngoing forward. \\n\\nWhile the technology sector broadly may carry a heavier \\nregulatory burden in the future, certain technology companies \\nwill benefit', start_char_idx=0, end_char_idx=1788, text_template='{metadata_str}\\n\\n{content}', metadata_template='{key}: {value}', metadata_seperator='\\n'), score=0.8504855241344096)], metadata={'e72ba067-5e4f-4bf0-bd70-e3ac46bbd9d7': {'page_label': 12, 'file_name': 'ltcma-full-report.pdf'}, 'f625a904-576e-429a-9e35-3b1a55298d44': {'page_label': 38, 'file_name': 'ltcma-full-report.pdf'}})"
      ]
     },
     "execution_count": 40,
     "metadata": {},
     "output_type": "execute_result"
    }
   ],
   "source": [
    "query_engine.query(\"what are they saying about emerging markets?\")"
   ]
  },
  {
   "cell_type": "code",
   "execution_count": null,
   "metadata": {},
   "outputs": [],
   "source": []
  }
 ],
 "metadata": {
  "interpreter": {
   "hash": "4d58a963836dd33eb5ff9b59551588ae2893d322de45909ccc768763140b4d5f"
  },
  "kernelspec": {
   "display_name": "Python 3.9.10 64-bit ('research')",
   "language": "python",
   "name": "python3"
  },
  "language_info": {
   "codemirror_mode": {
    "name": "ipython",
    "version": 3
   },
   "file_extension": ".py",
   "mimetype": "text/x-python",
   "name": "python",
   "nbconvert_exporter": "python",
   "pygments_lexer": "ipython3",
   "version": "3.9.10"
  },
  "orig_nbformat": 4
 },
 "nbformat": 4,
 "nbformat_minor": 2
}
