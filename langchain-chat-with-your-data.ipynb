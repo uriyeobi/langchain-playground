{
 "cells": [
  {
   "cell_type": "markdown",
   "metadata": {},
   "source": [
    "- This notebook is based on what I learned from:\n",
    "- https://learn.deeplearning.ai/langchain-chat-with-your-data"
   ]
  },
  {
   "cell_type": "code",
   "execution_count": 1,
   "metadata": {},
   "outputs": [],
   "source": [
    "import openai\n",
    "import os\n",
    "import sys\n",
    "sys.path.append(\"../doc\")\n",
    "\n",
    "from dotenv import load_dotenv, find_dotenv\n",
    "_ = load_dotenv(find_dotenv()) # read local .env file\n",
    "\n",
    "openai.api_key = os.environ[\"OPENAI_API_KEY\"]"
   ]
  },
  {
   "cell_type": "markdown",
   "metadata": {},
   "source": [
    "# 1. Document Loading\n",
    "- Goal: to load structured/unstructured data \n",
    "- 80+ types of documents you can use in langchain."
   ]
  },
  {
   "cell_type": "code",
   "execution_count": 2,
   "metadata": {},
   "outputs": [],
   "source": [
    "from langchain.document_loaders import PyPDFLoader"
   ]
  },
  {
   "cell_type": "code",
   "execution_count": 3,
   "metadata": {},
   "outputs": [],
   "source": [
    "loader = PyPDFLoader('docs/ltcma-full-report.pdf')"
   ]
  },
  {
   "cell_type": "code",
   "execution_count": 4,
   "metadata": {},
   "outputs": [],
   "source": [
    "pages = loader.load()"
   ]
  },
  {
   "cell_type": "code",
   "execution_count": 5,
   "metadata": {},
   "outputs": [
    {
     "data": {
      "text/plain": [
       "124"
      ]
     },
     "execution_count": 5,
     "metadata": {},
     "output_type": "execute_result"
    }
   ],
   "source": [
    "len(pages)"
   ]
  },
  {
   "cell_type": "code",
   "execution_count": 7,
   "metadata": {},
   "outputs": [],
   "source": [
    "page = pages[2]"
   ]
  },
  {
   "cell_type": "code",
   "execution_count": 8,
   "metadata": {},
   "outputs": [
    {
     "name": "stdout",
     "output_type": "stream",
     "text": [
      "J.P. Morgan Asset Management  3\n",
      "Foreword \n",
      "By nearly any measure, the early 2020s have been a period of extraordinary challenge. The worst pandemic \n",
      "in over a century triggered a short but severe recession and enduring supply disruptions. A generous fiscal \n",
      "response, facilitated by unusually easy monetary policy, fueled the highest levels of inflation since the early \n",
      "1980s. Russia’s brutal invasion of Ukraine created a devastating humanitarian crisis and further supply \n",
      "disruptions and inflation\n"
     ]
    }
   ],
   "source": [
    "print(page.page_content[:500])"
   ]
  },
  {
   "cell_type": "code",
   "execution_count": 9,
   "metadata": {},
   "outputs": [
    {
     "data": {
      "text/plain": [
       "{'source': 'docs/ltcma-full-report.pdf', 'page': 2}"
      ]
     },
     "execution_count": 9,
     "metadata": {},
     "output_type": "execute_result"
    }
   ],
   "source": [
    "page.metadata"
   ]
  },
  {
   "cell_type": "code",
   "execution_count": 10,
   "metadata": {},
   "outputs": [],
   "source": [
    "from langchain.document_loaders.generic import GenericLoader\n",
    "from langchain.document_loaders.parsers import OpenAIWhisperParser\n",
    "from langchain.document_loaders.blob_loaders.youtube_audio import YoutubeAudioLoader"
   ]
  },
  {
   "cell_type": "code",
   "execution_count": 11,
   "metadata": {},
   "outputs": [],
   "source": [
    "url=\"https://www.youtube.com/watch?v=opoHpa67oFU\"\n",
    "save_dir=\"docs/youtube/\"\n",
    "loader = GenericLoader(\n",
    "    YoutubeAudioLoader([url], save_dir),\n",
    "    OpenAIWhisperParser()\n",
    ")\n",
    "# If there is an error, try: brew install youtube-dl / brew install ffmpeg"
   ]
  },
  {
   "cell_type": "code",
   "execution_count": null,
   "metadata": {},
   "outputs": [
    {
     "name": "stdout",
     "output_type": "stream",
     "text": [
      "[youtube] Extracting URL: https://www.youtube.com/watch?v=opoHpa67oFU\n",
      "[youtube] opoHpa67oFU: Downloading webpage\n",
      "[youtube] opoHpa67oFU: Downloading ios player API JSON\n",
      "[youtube] opoHpa67oFU: Downloading android player API JSON\n",
      "[youtube] opoHpa67oFU: Downloading m3u8 information\n",
      "[info] opoHpa67oFU: Downloading 1 format(s): 140\n",
      "[download] Destination: docs/youtube//1,000,000 ELO CHESS BOT!!!.m4a\n",
      "[download] 100% of   24.04MiB in 00:00:01 at 14.93MiB/s    \n",
      "[FixupM4a] Correcting container of \"docs/youtube//1,000,000 ELO CHESS BOT!!!.m4a\"\n",
      "[ExtractAudio] Not converting audio docs/youtube//1,000,000 ELO CHESS BOT!!!.m4a; file is already in target format m4a\n",
      "Transcribing part 1!\n",
      "Transcribing part 2!\n"
     ]
    }
   ],
   "source": [
    "docs = loader.load()"
   ]
  },
  {
   "cell_type": "code",
   "execution_count": null,
   "metadata": {},
   "outputs": [
    {
     "data": {
      "text/plain": [
       "\"Ladies and gentlemen, one of the most interesting elements of the game of chess is the fact that AI is better than any human will ever be, ever. I mean, that's not an exaggeration, AI has completely taken over in terms of being excellent at chess. A human being can start at massive, massive favorite in terms of odds and material, computer will still wipe the floor with them. And AI is really fascinating when they play against each other, or when they are nerfed and there are different types of bot forms. But in this video, I'm gonna give you a major piece of news, chess.com, among all the othe\""
      ]
     },
     "execution_count": 11,
     "metadata": {},
     "output_type": "execute_result"
    }
   ],
   "source": [
    "docs[0].page_content[0:600]"
   ]
  },
  {
   "cell_type": "code",
   "execution_count": 12,
   "metadata": {},
   "outputs": [],
   "source": [
    "from langchain.document_loaders import WebBaseLoader\n"
   ]
  },
  {
   "cell_type": "code",
   "execution_count": null,
   "metadata": {},
   "outputs": [],
   "source": [
    "loader = WebBaseLoader(\"https://medium.com/towards-data-science/understanding-variational-autoencoders-vaes-f70510919f73\")"
   ]
  },
  {
   "cell_type": "code",
   "execution_count": null,
   "metadata": {},
   "outputs": [],
   "source": [
    "docs = loader.load()"
   ]
  },
  {
   "cell_type": "code",
   "execution_count": null,
   "metadata": {},
   "outputs": [
    {
     "data": {
      "text/plain": [
       "'Understanding Variational Autoencoders (VAEs) | by Joseph Rocca | Towards Data ScienceOpen in appSign upSign InWriteSign upSign InUnderstanding Variational Autoencoders (VAEs)Building, step by step, the reasoning that leads to VAEs.Joseph Rocca·FollowPublished inTowards Data Science·23 min read·Sep 24, 2019--96ListenShareCredit: Free-Photos on PixabayThis post was co-written with Baptiste Rocca.IntroductionIn the last few years, deep learning based generative models have gained more and more interest due to (and implying) some amazing improvements in the field. Relying on huge amount of data, '"
      ]
     },
     "execution_count": 22,
     "metadata": {},
     "output_type": "execute_result"
    }
   ],
   "source": [
    "docs[0].page_content[0:600]"
   ]
  },
  {
   "cell_type": "markdown",
   "metadata": {},
   "source": [
    "# 2. Document Splitting"
   ]
  },
  {
   "cell_type": "code",
   "execution_count": 13,
   "metadata": {},
   "outputs": [],
   "source": [
    "from langchain.text_splitter import RecursiveCharacterTextSplitter, CharacterTextSplitter, Language"
   ]
  },
  {
   "cell_type": "code",
   "execution_count": 14,
   "metadata": {},
   "outputs": [],
   "source": [
    "chunk_size = 26\n",
    "chunk_overlap = 4"
   ]
  },
  {
   "cell_type": "code",
   "execution_count": 15,
   "metadata": {},
   "outputs": [],
   "source": [
    "r_splitter = RecursiveCharacterTextSplitter(\n",
    "    chunk_size=chunk_size,\n",
    "    chunk_overlap=chunk_overlap\n",
    ")"
   ]
  },
  {
   "cell_type": "code",
   "execution_count": 16,
   "metadata": {},
   "outputs": [],
   "source": [
    "text1 = 'abcdefghijklmnopqrstuvwxyz'"
   ]
  },
  {
   "cell_type": "code",
   "execution_count": 17,
   "metadata": {},
   "outputs": [
    {
     "data": {
      "text/plain": [
       "['abcdefghijklmnopqrstuvwxyz']"
      ]
     },
     "execution_count": 17,
     "metadata": {},
     "output_type": "execute_result"
    }
   ],
   "source": [
    "r_splitter.split_text(text1)"
   ]
  },
  {
   "cell_type": "code",
   "execution_count": 18,
   "metadata": {},
   "outputs": [],
   "source": [
    "text2 = \"abcdefghijklmnopqrstuvwxyzabcdefg\""
   ]
  },
  {
   "cell_type": "code",
   "execution_count": 19,
   "metadata": {},
   "outputs": [
    {
     "data": {
      "text/plain": [
       "['abcdefghijklmnopqrstuvwxyz', 'wxyzabcdefg']"
      ]
     },
     "execution_count": 19,
     "metadata": {},
     "output_type": "execute_result"
    }
   ],
   "source": [
    "r_splitter.split_text(text2)"
   ]
  },
  {
   "cell_type": "code",
   "execution_count": 20,
   "metadata": {},
   "outputs": [],
   "source": [
    "text3 = \"a b c d e f g h i j k l m n o p q r s t u v w x y z\""
   ]
  },
  {
   "cell_type": "code",
   "execution_count": 21,
   "metadata": {},
   "outputs": [
    {
     "data": {
      "text/plain": [
       "['a b c d e f g h i j k l m', 'l m n o p q r s t u v w x', 'w x y z']"
      ]
     },
     "execution_count": 21,
     "metadata": {},
     "output_type": "execute_result"
    }
   ],
   "source": [
    "r_splitter.split_text(text3)"
   ]
  },
  {
   "cell_type": "code",
   "execution_count": 22,
   "metadata": {},
   "outputs": [
    {
     "data": {
      "text/plain": [
       "['a b c d e f g h i j k l m n o p q r s t u v w x y z']"
      ]
     },
     "execution_count": 22,
     "metadata": {},
     "output_type": "execute_result"
    }
   ],
   "source": [
    "\n",
    "c_splitter = CharacterTextSplitter(\n",
    "    chunk_size=chunk_size,\n",
    "    chunk_overlap=chunk_overlap\n",
    ")\n",
    "c_splitter.split_text(text3)"
   ]
  },
  {
   "cell_type": "code",
   "execution_count": 23,
   "metadata": {},
   "outputs": [
    {
     "data": {
      "text/plain": [
       "['a b c d e f g h i j k l m', 'l m n o p q r s t u v w x', 'w x y z']"
      ]
     },
     "execution_count": 23,
     "metadata": {},
     "output_type": "execute_result"
    }
   ],
   "source": [
    "\n",
    "c_splitter = CharacterTextSplitter(\n",
    "    chunk_size=chunk_size,\n",
    "    chunk_overlap=chunk_overlap,\n",
    "    separator = \" \"\n",
    ")\n",
    "c_splitter.split_text(text3)"
   ]
  },
  {
   "cell_type": "code",
   "execution_count": 24,
   "metadata": {},
   "outputs": [],
   "source": [
    "some_text = \"\"\"When writing documents, writers will use document structure to group content.\\n \\\n",
    "This can convey to the reader, which idea's are related. For example, closely related ideas \\\n",
    "are in sentances. Similar ideas are in paragraphs. Paragraphs form a document. \\n\\n  \\\n",
    "Paragraphs are often delimited with a carriage return or two carriage returns. \\\n",
    "Carriage returns are the \"backslash n\" you see embedded in this string. \\\n",
    "Sentences have a period at the end, but also, have a space.\\\n",
    "and words are separated by space.\"\"\""
   ]
  },
  {
   "cell_type": "code",
   "execution_count": 25,
   "metadata": {},
   "outputs": [],
   "source": [
    "c_splitter = CharacterTextSplitter(\n",
    "    chunk_size=450,\n",
    "    chunk_overlap=0,\n",
    ")\n",
    "r_splitter = RecursiveCharacterTextSplitter(\n",
    "    chunk_size=450,\n",
    "    chunk_overlap=0, \n",
    "    separators=[\"\\n\\n\", \"\\n\", \" \", \"\"]\n",
    ")"
   ]
  },
  {
   "cell_type": "code",
   "execution_count": 26,
   "metadata": {},
   "outputs": [
    {
     "data": {
      "text/plain": [
       "[\"When writing documents, writers will use document structure to group content.\\n This can convey to the reader, which idea's are related. For example, closely related ideas are in sentances. Similar ideas are in paragraphs. Paragraphs form a document.\",\n",
       " 'Paragraphs are often delimited with a carriage return or two carriage returns. Carriage returns are the \"backslash n\" you see embedded in this string. Sentences have a period at the end, but also, have a space.and words are separated by space.']"
      ]
     },
     "execution_count": 26,
     "metadata": {},
     "output_type": "execute_result"
    }
   ],
   "source": [
    "c_splitter.split_text(some_text)"
   ]
  },
  {
   "cell_type": "code",
   "execution_count": 27,
   "metadata": {},
   "outputs": [
    {
     "data": {
      "text/plain": [
       "[\"When writing documents, writers will use document structure to group content.\\n This can convey to the reader, which idea's are related. For example, closely related ideas are in sentances. Similar ideas are in paragraphs. Paragraphs form a document.\",\n",
       " 'Paragraphs are often delimited with a carriage return or two carriage returns. Carriage returns are the \"backslash n\" you see embedded in this string. Sentences have a period at the end, but also, have a space.and words are separated by space.']"
      ]
     },
     "execution_count": 27,
     "metadata": {},
     "output_type": "execute_result"
    }
   ],
   "source": [
    "r_splitter.split_text(some_text )"
   ]
  },
  {
   "cell_type": "code",
   "execution_count": 28,
   "metadata": {},
   "outputs": [],
   "source": [
    "from langchain.document_loaders import PyPDFLoader\n",
    "loader = PyPDFLoader(\"docs/ltcma-full-report.pdf\")\n",
    "pages = loader.load()"
   ]
  },
  {
   "cell_type": "code",
   "execution_count": 29,
   "metadata": {},
   "outputs": [],
   "source": [
    "from langchain.text_splitter import CharacterTextSplitter\n",
    "text_splitter = CharacterTextSplitter(\n",
    "    separator=\"\\n\",\n",
    "    chunk_size=1000,\n",
    "    chunk_overlap=150,\n",
    "    length_function=len\n",
    ")"
   ]
  },
  {
   "cell_type": "code",
   "execution_count": 30,
   "metadata": {},
   "outputs": [],
   "source": [
    "docs = text_splitter.split_documents(pages)"
   ]
  },
  {
   "cell_type": "code",
   "execution_count": 31,
   "metadata": {},
   "outputs": [
    {
     "data": {
      "text/plain": [
       "570"
      ]
     },
     "execution_count": 31,
     "metadata": {},
     "output_type": "execute_result"
    }
   ],
   "source": [
    "len(docs)"
   ]
  },
  {
   "cell_type": "code",
   "execution_count": 32,
   "metadata": {},
   "outputs": [
    {
     "data": {
      "text/plain": [
       "124"
      ]
     },
     "execution_count": 32,
     "metadata": {},
     "output_type": "execute_result"
    }
   ],
   "source": [
    "len(pages)"
   ]
  },
  {
   "cell_type": "code",
   "execution_count": 33,
   "metadata": {},
   "outputs": [
    {
     "data": {
      "text/plain": [
       "'s diversification benefits weaken\\n104 Portfolio implications \\nStriking a balance: Strategic patience, tactical flexibility\\nAssumption matrices\\n112 U.S. dollar \\n2023 Estimates and correlations\\n114 Euro'"
      ]
     },
     "execution_count": 33,
     "metadata": {},
     "output_type": "execute_result"
    }
   ],
   "source": [
    "docs[5].page_content[-200:]"
   ]
  },
  {
   "cell_type": "code",
   "execution_count": 34,
   "metadata": {},
   "outputs": [
    {
     "data": {
      "text/plain": [
       "'Striking a balance: Strategic patience, tactical flexibility\\nAssumption matrices\\n112 U.S. dollar \\n2023 Estimates and correlations\\n114 Euro \\n2023 Estimates and correlations\\n116 Sterling \\n2023 Estimates'"
      ]
     },
     "execution_count": 34,
     "metadata": {},
     "output_type": "execute_result"
    }
   ],
   "source": [
    "docs[6].page_content[:200]"
   ]
  },
  {
   "cell_type": "code",
   "execution_count": 35,
   "metadata": {},
   "outputs": [],
   "source": [
    "from langchain.text_splitter import TokenTextSplitter"
   ]
  },
  {
   "cell_type": "code",
   "execution_count": 36,
   "metadata": {},
   "outputs": [],
   "source": [
    "text_splitter = TokenTextSplitter(chunk_size=1, chunk_overlap=0)"
   ]
  },
  {
   "cell_type": "code",
   "execution_count": 37,
   "metadata": {},
   "outputs": [],
   "source": [
    "text1 = \"foo bar bazzyfoo\""
   ]
  },
  {
   "cell_type": "code",
   "execution_count": 38,
   "metadata": {},
   "outputs": [
    {
     "data": {
      "text/plain": [
       "['foo', ' bar', ' b', 'az', 'zy', 'foo']"
      ]
     },
     "execution_count": 38,
     "metadata": {},
     "output_type": "execute_result"
    }
   ],
   "source": [
    "text_splitter.split_text(text1)"
   ]
  },
  {
   "cell_type": "code",
   "execution_count": 39,
   "metadata": {},
   "outputs": [],
   "source": [
    "from langchain.text_splitter import Language"
   ]
  },
  {
   "cell_type": "code",
   "execution_count": 40,
   "metadata": {},
   "outputs": [
    {
     "data": {
      "text/plain": [
       "[Document(page_content='def hello_world():\\n    print(\"Hello, World!\")', metadata={}),\n",
       " Document(page_content='# Call the function\\nhello_world()', metadata={})]"
      ]
     },
     "execution_count": 40,
     "metadata": {},
     "output_type": "execute_result"
    }
   ],
   "source": [
    "PYTHON_CODE = \"\"\"\n",
    "def hello_world():\n",
    "    print(\"Hello, World!\")\n",
    "\n",
    "# Call the function\n",
    "hello_world()\n",
    "\"\"\"\n",
    "python_splitter = RecursiveCharacterTextSplitter.from_language(\n",
    "    language=Language.PYTHON, chunk_size=50, chunk_overlap=0\n",
    ")\n",
    "python_docs = python_splitter.create_documents([PYTHON_CODE])\n",
    "python_docs"
   ]
  },
  {
   "cell_type": "markdown",
   "metadata": {},
   "source": [
    "# 3. Vertorstores and Embeddings"
   ]
  },
  {
   "cell_type": "code",
   "execution_count": 41,
   "metadata": {},
   "outputs": [],
   "source": [
    "from langchain.embeddings.openai import OpenAIEmbeddings\n",
    "embedding = OpenAIEmbeddings()"
   ]
  },
  {
   "cell_type": "code",
   "execution_count": 42,
   "metadata": {},
   "outputs": [],
   "source": [
    "sentence1 = \"i like dogs\"\n",
    "sentence2 = \"i hate dogs\"\n",
    "sentence3 = \"i like canines\"\n",
    "sentence4 = \"the weather is ugly outside\""
   ]
  },
  {
   "cell_type": "code",
   "execution_count": 43,
   "metadata": {},
   "outputs": [],
   "source": [
    "embedding1 = embedding.embed_query(sentence1)\n",
    "embedding2 = embedding.embed_query(sentence2)\n",
    "embedding3 = embedding.embed_query(sentence3)\n",
    "embedding4 = embedding.embed_query(sentence4)"
   ]
  },
  {
   "cell_type": "code",
   "execution_count": 44,
   "metadata": {},
   "outputs": [],
   "source": [
    "import numpy as np"
   ]
  },
  {
   "cell_type": "code",
   "execution_count": 45,
   "metadata": {},
   "outputs": [
    {
     "data": {
      "text/plain": [
       "0.9140029516454701"
      ]
     },
     "execution_count": 45,
     "metadata": {},
     "output_type": "execute_result"
    }
   ],
   "source": [
    "np.dot(embedding1, embedding2)"
   ]
  },
  {
   "cell_type": "code",
   "execution_count": 46,
   "metadata": {},
   "outputs": [
    {
     "data": {
      "text/plain": [
       "0.9632050183193249"
      ]
     },
     "execution_count": 46,
     "metadata": {},
     "output_type": "execute_result"
    }
   ],
   "source": [
    "np.dot(embedding1, embedding3)"
   ]
  },
  {
   "cell_type": "code",
   "execution_count": 47,
   "metadata": {},
   "outputs": [
    {
     "data": {
      "text/plain": [
       "0.8856142325237184"
      ]
     },
     "execution_count": 47,
     "metadata": {},
     "output_type": "execute_result"
    }
   ],
   "source": [
    "np.dot(embedding2, embedding3)"
   ]
  },
  {
   "cell_type": "code",
   "execution_count": 48,
   "metadata": {},
   "outputs": [],
   "source": [
    "from langchain.vectorstores import Chroma"
   ]
  },
  {
   "cell_type": "code",
   "execution_count": 49,
   "metadata": {},
   "outputs": [],
   "source": [
    "persist_directory = 'docs/chroma/'"
   ]
  },
  {
   "cell_type": "code",
   "execution_count": 50,
   "metadata": {},
   "outputs": [],
   "source": [
    "vectordb = Chroma.from_documents(\n",
    "    documents=docs,\n",
    "    embedding=embedding,\n",
    "    persist_directory=persist_directory\n",
    ")"
   ]
  },
  {
   "cell_type": "code",
   "execution_count": 51,
   "metadata": {},
   "outputs": [
    {
     "data": {
      "text/plain": [
       "1140"
      ]
     },
     "execution_count": 51,
     "metadata": {},
     "output_type": "execute_result"
    }
   ],
   "source": [
    "vectordb._collection.count()"
   ]
  },
  {
   "cell_type": "code",
   "execution_count": 52,
   "metadata": {},
   "outputs": [
    {
     "data": {
      "text/plain": [
       "570"
      ]
     },
     "execution_count": 52,
     "metadata": {},
     "output_type": "execute_result"
    }
   ],
   "source": [
    "len(docs)"
   ]
  },
  {
   "cell_type": "code",
   "execution_count": 55,
   "metadata": {},
   "outputs": [],
   "source": [
    "question = \"What will be the inflation rate next year?\""
   ]
  },
  {
   "cell_type": "code",
   "execution_count": 56,
   "metadata": {},
   "outputs": [],
   "source": [
    "out = vectordb.similarity_search(question, k=3)"
   ]
  },
  {
   "cell_type": "code",
   "execution_count": 57,
   "metadata": {},
   "outputs": [
    {
     "data": {
      "text/plain": [
       "Document(page_content='J.P. Morgan Asset Management  27Transition effects: In most countries, adding to inflation\\nFinally, we consider the impact of the starting point for inflation \\nrelative to its long-term trend. At publishing time, the monthly \\nrunning rate for inflation had backed off from its peak earlier \\nin 2022. However, with higher wage growth, higher inflation \\nexpectations and the lagged impact of higher home prices, \\ninflation in most countries remains significantly above both \\ncentral bank targets and our estimates of long-run trend \\ninflation. Despite public concern about recent inflation, we expect that \\ninflation rates will moderate quite quickly in 2023 and 2024. \\nIndeed, the current much more hawkish attitudes and actions \\nof central banks suggest that inflation could fall sharply to trend \\nrates, undershoot them and then revert to them in the early \\nyears of the forecast. \\nThe full details of these dynamics are, of course, well beyond', metadata={'page': 26, 'source': 'docs/ltcma-full-report.pdf'})"
      ]
     },
     "execution_count": 57,
     "metadata": {},
     "output_type": "execute_result"
    }
   ],
   "source": [
    "out[0]"
   ]
  },
  {
   "cell_type": "code",
   "execution_count": 58,
   "metadata": {},
   "outputs": [
    {
     "data": {
      "text/plain": [
       "Document(page_content='J.P. Morgan Asset Management  27Transition effects: In most countries, adding to inflation\\nFinally, we consider the impact of the starting point for inflation \\nrelative to its long-term trend. At publishing time, the monthly \\nrunning rate for inflation had backed off from its peak earlier \\nin 2022. However, with higher wage growth, higher inflation \\nexpectations and the lagged impact of higher home prices, \\ninflation in most countries remains significantly above both \\ncentral bank targets and our estimates of long-run trend \\ninflation. Despite public concern about recent inflation, we expect that \\ninflation rates will moderate quite quickly in 2023 and 2024. \\nIndeed, the current much more hawkish attitudes and actions \\nof central banks suggest that inflation could fall sharply to trend \\nrates, undershoot them and then revert to them in the early \\nyears of the forecast. \\nThe full details of these dynamics are, of course, well beyond', metadata={'page': 26, 'source': 'docs/ltcma-full-report.pdf'})"
      ]
     },
     "execution_count": 58,
     "metadata": {},
     "output_type": "execute_result"
    }
   ],
   "source": [
    "out[1]"
   ]
  },
  {
   "cell_type": "code",
   "execution_count": 59,
   "metadata": {},
   "outputs": [
    {
     "data": {
      "text/plain": [
       "Document(page_content='expect long-term inflation will rise uncontrollably and little \\nevidence signaling tolerance of inflation by central banks.\\nTo be sure, risks to inflation are considerably more two-sided \\ntoday, possibly pointing to more volatility in inflation in the years \\nahead. As we discuss in our macroeconomics section, the \\nlonger-term disinflationary forces of technology adoption and \\nglobalization may have slowed, but they have not disappeared. \\nMeanwhile, central banks have clearly rediscovered their \\ninflation-fighting zeal, with renewed commitment to achieving \\ninflation targets over the next two to three years.Back to basics', metadata={'page': 8, 'source': 'docs/ltcma-full-report.pdf'})"
      ]
     },
     "execution_count": 59,
     "metadata": {},
     "output_type": "execute_result"
    }
   ],
   "source": [
    "out[2]"
   ]
  },
  {
   "cell_type": "markdown",
   "metadata": {},
   "source": [
    "# 4. Retrieval \n",
    "- maximum marginal relevance\n",
    "- query -> top fetch_k response -> top k "
   ]
  },
  {
   "cell_type": "code",
   "execution_count": 60,
   "metadata": {},
   "outputs": [],
   "source": [
    "from langchain.vectorstores import Chroma\n",
    "from langchain.embeddings.openai import OpenAIEmbeddings\n",
    "persist_directory = 'docs/chroma/'"
   ]
  },
  {
   "cell_type": "code",
   "execution_count": 61,
   "metadata": {},
   "outputs": [
    {
     "name": "stdout",
     "output_type": "stream",
     "text": [
      "1140\n"
     ]
    }
   ],
   "source": [
    "print(vectordb._collection.count())"
   ]
  },
  {
   "cell_type": "code",
   "execution_count": 62,
   "metadata": {},
   "outputs": [],
   "source": [
    "texts = [\n",
    "    \"\"\"The Amanita phalloides has a large and imposing epigeous (aboveground) fruiting body (basidiocarp).\"\"\",\n",
    "    \"\"\"A mushroom with a large fruiting body is the Amanita phalloides. Some varieties are all-white.\"\"\",\n",
    "    \"\"\"A. phalloides, a.k.a Death Cap, is one of the most poisonous of all known mushrooms.\"\"\",\n",
    "]"
   ]
  },
  {
   "cell_type": "code",
   "execution_count": 63,
   "metadata": {},
   "outputs": [],
   "source": [
    "smalldb = Chroma.from_texts(texts, embedding=embedding)"
   ]
  },
  {
   "cell_type": "code",
   "execution_count": 64,
   "metadata": {},
   "outputs": [],
   "source": [
    "question = \"Tell me about all-white mushrooms with large fruiting bodies\""
   ]
  },
  {
   "cell_type": "code",
   "execution_count": 65,
   "metadata": {},
   "outputs": [
    {
     "data": {
      "text/plain": [
       "[Document(page_content='A mushroom with a large fruiting body is the Amanita phalloides. Some varieties are all-white.', metadata={}),\n",
       " Document(page_content='The Amanita phalloides has a large and imposing epigeous (aboveground) fruiting body (basidiocarp).', metadata={})]"
      ]
     },
     "execution_count": 65,
     "metadata": {},
     "output_type": "execute_result"
    }
   ],
   "source": [
    "smalldb.similarity_search(question, k=2)"
   ]
  },
  {
   "cell_type": "code",
   "execution_count": 66,
   "metadata": {},
   "outputs": [
    {
     "data": {
      "text/plain": [
       "[Document(page_content='A mushroom with a large fruiting body is the Amanita phalloides. Some varieties are all-white.', metadata={}),\n",
       " Document(page_content='A. phalloides, a.k.a Death Cap, is one of the most poisonous of all known mushrooms.', metadata={})]"
      ]
     },
     "execution_count": 66,
     "metadata": {},
     "output_type": "execute_result"
    }
   ],
   "source": [
    "smalldb.max_marginal_relevance_search(question,k=2, fetch_k=3)"
   ]
  },
  {
   "cell_type": "code",
   "execution_count": 67,
   "metadata": {},
   "outputs": [],
   "source": [
    "question = \"what did they say about inflation?\"\n",
    "docs_ss = vectordb.similarity_search(question, k=3)"
   ]
  },
  {
   "cell_type": "code",
   "execution_count": 68,
   "metadata": {},
   "outputs": [
    {
     "data": {
      "text/plain": [
       "'expect long-term inflation will rise uncontrollably and little \\nevidence signaling tolerance of inflation by central banks.\\nTo be sure, risks to inflation are considerably more two-sided \\ntoday, possibly pointing to more volatility in inflation in the years \\nahead. As we discuss in our macroeconomics section, the \\nlonger-term disinflationary forces of technology adoption and \\nglobalization may have slowed, but they have not disappeared. \\nMeanwhile, central banks have clearly rediscovered their \\ninflation-fighting zeal, with renewed commitment to achieving \\ninflation targets over the next two to three years.Back to basics'"
      ]
     },
     "execution_count": 68,
     "metadata": {},
     "output_type": "execute_result"
    }
   ],
   "source": [
    "docs_ss[0].page_content"
   ]
  },
  {
   "cell_type": "code",
   "execution_count": 69,
   "metadata": {},
   "outputs": [
    {
     "data": {
      "text/plain": [
       "'expect long-term inflation will rise uncontrollably and little \\nevidence signaling tolerance of inflation by central banks.\\nTo be sure, risks to inflation are considerably more two-sided \\ntoday, possibly pointing to more volatility in inflation in the years \\nahead. As we discuss in our macroeconomics section, the \\nlonger-term disinflationary forces of technology adoption and \\nglobalization may have slowed, but they have not disappeared. \\nMeanwhile, central banks have clearly rediscovered their \\ninflation-fighting zeal, with renewed commitment to achieving \\ninflation targets over the next two to three years.Back to basics'"
      ]
     },
     "execution_count": 69,
     "metadata": {},
     "output_type": "execute_result"
    }
   ],
   "source": [
    "docs_ss[1].page_content"
   ]
  },
  {
   "cell_type": "code",
   "execution_count": 70,
   "metadata": {},
   "outputs": [
    {
     "data": {
      "text/plain": [
       "'• The major question hanging over the outlook is whether the world has \\nmoved into a high inflation regime.\\n• While many economies are overheating today and inflation expectations \\nhave moved up, we think many secular forces that have depressed inflation \\nin recent decades remain in place.\\n• Additionally, we think most central banks will pursue their price stability \\ngoals assiduously over the medium term.\\n• As a result, our inflation forecasts have moved up modestly but \\nnot dramatically.'"
      ]
     },
     "execution_count": 70,
     "metadata": {},
     "output_type": "execute_result"
    }
   ],
   "source": [
    "docs_ss[2].page_content"
   ]
  },
  {
   "cell_type": "code",
   "execution_count": 71,
   "metadata": {},
   "outputs": [],
   "source": [
    "from langchain.llms import OpenAI\n",
    "from langchain.retrievers.self_query.base import SelfQueryRetriever\n",
    "from langchain.chains.query_constructor.base import AttributeInfo"
   ]
  },
  {
   "cell_type": "code",
   "execution_count": 72,
   "metadata": {},
   "outputs": [],
   "source": [
    "metadata_field_info = [\n",
    "    AttributeInfo(\n",
    "        name=\"source\",\n",
    "        description=\"The lecture the chunk is from `docs/ltcma-full-report.pdf`\",\n",
    "        type=\"string\",\n",
    "    ),\n",
    "    AttributeInfo(\n",
    "        name=\"page\",\n",
    "        description=\"The page from the report\",\n",
    "        type=\"integer\",\n",
    "    ),\n",
    "]"
   ]
  },
  {
   "cell_type": "code",
   "execution_count": 73,
   "metadata": {},
   "outputs": [],
   "source": [
    "document_content_description = \"report\"\n",
    "llm = OpenAI(temperature=0)\n",
    "retriever = SelfQueryRetriever.from_llm(\n",
    "    llm,\n",
    "    vectordb,\n",
    "    document_content_description,\n",
    "    metadata_field_info,\n",
    "    verbose=True\n",
    ")"
   ]
  },
  {
   "cell_type": "code",
   "execution_count": 74,
   "metadata": {},
   "outputs": [],
   "source": [
    "question = \"what did they say about mortgage rates?\""
   ]
  },
  {
   "cell_type": "code",
   "execution_count": 75,
   "metadata": {},
   "outputs": [
    {
     "name": "stderr",
     "output_type": "stream",
     "text": [
      "/Users/yeo/.pyenv/versions/3.9.10/envs/research/lib/python3.9/site-packages/langchain/chains/llm.py:275: UserWarning: The predict_and_parse method is deprecated, instead pass an output parser directly to LLMChain.\n",
      "  warnings.warn(\n"
     ]
    },
    {
     "name": "stdout",
     "output_type": "stream",
     "text": [
      "query='mortgage rates' filter=Comparison(comparator=<Comparator.EQ: 'eq'>, attribute='source', value='docs/ltcma-full-report.pdf') limit=None\n"
     ]
    }
   ],
   "source": [
    "out = retriever.get_relevant_documents(question)"
   ]
  },
  {
   "cell_type": "code",
   "execution_count": 76,
   "metadata": {},
   "outputs": [
    {
     "data": {
      "text/plain": [
       "'refinancing meant credit spreads outperformed equities. \\nPrevailing spreads in both U.S. investment grade (IG) and \\nhigh yield (HY) are near our equilibrium spread forecasts of \\n160bps and 480bps, respectively, leading to return forecasts \\nup 270bps, to 5.50%, for U.S. IG and up 290bps, to 6.80%, \\nfor U.S. HY. Back to basics'"
      ]
     },
     "execution_count": 76,
     "metadata": {},
     "output_type": "execute_result"
    }
   ],
   "source": [
    "out[0].page_content"
   ]
  },
  {
   "cell_type": "code",
   "execution_count": 77,
   "metadata": {},
   "outputs": [
    {
     "data": {
      "text/plain": [
       "{'page': 10, 'source': 'docs/ltcma-full-report.pdf'}"
      ]
     },
     "execution_count": 77,
     "metadata": {},
     "output_type": "execute_result"
    }
   ],
   "source": [
    "out[0].metadata"
   ]
  },
  {
   "cell_type": "code",
   "execution_count": 78,
   "metadata": {},
   "outputs": [],
   "source": [
    "from langchain.retrievers import SVMRetriever\n",
    "from langchain.retrievers import TFIDFRetriever\n",
    "from langchain.document_loaders import PyPDFLoader\n",
    "from langchain.text_splitter import RecursiveCharacterTextSplitter"
   ]
  },
  {
   "cell_type": "code",
   "execution_count": 80,
   "metadata": {},
   "outputs": [],
   "source": [
    "# Load PDF\n",
    "# loader = PyPDFLoader(\"docs/ltcma-full-report.pdf\")\n",
    "# pages = loader.load()\n",
    "all_page_text=[p.page_content for p in pages]\n",
    "joined_page_text=\" \".join(all_page_text)\n",
    "\n",
    "# Split\n",
    "text_splitter = RecursiveCharacterTextSplitter(chunk_size = 1000,chunk_overlap = 150)\n",
    "\n",
    "# splits = text_splitter.split_text(joined_page_text)\n"
   ]
  },
  {
   "cell_type": "code",
   "execution_count": 81,
   "metadata": {},
   "outputs": [],
   "source": [
    "# Retrieve\n",
    "svm_retriever = SVMRetriever.from_documents(docs,embedding)\n",
    "tfidf_retriever = TFIDFRetriever.from_documents(docs)"
   ]
  },
  {
   "cell_type": "code",
   "execution_count": 82,
   "metadata": {},
   "outputs": [
    {
     "data": {
      "text/plain": [
       "Document(page_content='predominant material for home construction, also informs our \\nview. Even if the U.S. housing market cooled under pressure \\nfrom rising rates, we would expect to see ongoing investor \\ninterest in forests as a premium-priced source of tradable \\ncarbon credits, especially for corporates seeking to meet \\ncompliance-based commitments to reduce their carbon \\nfootprints. Taken together, these factors create an opportunity \\nfor new capital to serve as a resource for timberland \\ndevelopment. \\nThe U.S. continues to be the largest investible region for \\ntimberland, and local housing demand remains strong, \\nboosting timberland’s appeal as an inflation-linked asset \\nclass. Although affordability headwinds have recently \\ndampened new home construction forecasts, we expect to \\nsee housing starts stay well above the levels recorded in the \\nwake of the global financial crisis (GFC). \\nElsewhere, expanding household formation and global \\npopulation growth continue to propel housing demand.', metadata={})"
      ]
     },
     "execution_count": 82,
     "metadata": {},
     "output_type": "execute_result"
    }
   ],
   "source": [
    "question = \"What is their view on mortgage rates?\"\n",
    "docs_svm=svm_retriever.get_relevant_documents(question)\n",
    "docs_svm[0]"
   ]
  },
  {
   "cell_type": "code",
   "execution_count": 83,
   "metadata": {},
   "outputs": [
    {
     "data": {
      "text/plain": [
       "Document(page_content='J.P. Morgan Asset Management  65We are not explicitly forecasting items such as an economic \\nequilibrium rate (R*, an unobservable real cash rate that is \\nneither expansionary nor contractionary). While our view on \\nwhere R* will settle is very important, central bank policymakers \\nset nominal cash rates and will differ from R* depending on \\ntheir monetary policy stance. For example, over the last decade, \\ncentral banks have spent much more time below what would be \\nconsidered the economic neutral rate than above it.\\nWe are also not explicitly forecasting a terminal rate, the \\nhighest cash rate a central bank will achieve, although, of \\ncourse, our view on terminal rates will play an important role in \\ndetermining our forecasts for average yields and the slope of \\nthe curve.\\nNormalization and sensitivity analysis \\nUnlike our previous set of assumptions of the last 10 years, we \\nno longer see normalization as a drag on long-term returns.', metadata={'source': 'docs/ltcma-full-report.pdf', 'page': 64})"
      ]
     },
     "execution_count": 83,
     "metadata": {},
     "output_type": "execute_result"
    }
   ],
   "source": [
    "question = \"What is their view on mortgage rates?\"\n",
    "docs_tfidf=tfidf_retriever.get_relevant_documents(question)\n",
    "docs_tfidf[0]"
   ]
  },
  {
   "cell_type": "markdown",
   "metadata": {},
   "source": [
    "# 5. Question Answering"
   ]
  },
  {
   "cell_type": "code",
   "execution_count": 84,
   "metadata": {},
   "outputs": [
    {
     "name": "stdout",
     "output_type": "stream",
     "text": [
      "gpt-3.5-turbo-0301\n"
     ]
    }
   ],
   "source": [
    "import datetime\n",
    "current_date = datetime.datetime.now().date()\n",
    "if current_date < datetime.date(2023, 9, 2):\n",
    "    llm_name = \"gpt-3.5-turbo-0301\"\n",
    "else:\n",
    "    llm_name = \"gpt-3.5-turbo\"\n",
    "print(llm_name)"
   ]
  },
  {
   "cell_type": "code",
   "execution_count": 85,
   "metadata": {},
   "outputs": [],
   "source": [
    "from langchain.vectorstores import Chroma\n",
    "from langchain.embeddings.openai import OpenAIEmbeddings\n",
    "persist_directory = 'docs/chroma/'\n",
    "embedding = OpenAIEmbeddings()\n",
    "vectordb = Chroma(persist_directory=persist_directory, embedding_function=embedding)"
   ]
  },
  {
   "cell_type": "code",
   "execution_count": 86,
   "metadata": {},
   "outputs": [
    {
     "name": "stdout",
     "output_type": "stream",
     "text": [
      "1140\n"
     ]
    }
   ],
   "source": [
    "print(vectordb._collection.count())"
   ]
  },
  {
   "cell_type": "code",
   "execution_count": 87,
   "metadata": {},
   "outputs": [
    {
     "data": {
      "text/plain": [
       "[Document(page_content='72 2023 Long-Term Capital Market Assumptions\\nEmerging markets\\nAs in previous publications, we expect EM equites to \\noutperform DM equities over our investment horizon. \\nEmerging market stocks earn revenues in regions where \\nnominal GDP is growing faster, supporting their earnings \\nstreams. This year, we update our methodology, taking a closer \\nlook at the nominal GDP growth pass-through to revenue \\ngrowth. In some cases, we acknowledge, high inflation might \\nsupport nominal GDP but hurt revenue growth in other ways. \\nThis dynamic is particularly relevant in today’s high inflation \\nenvironment, especially for countries that face persistent \\ninflation issues and steady long-term currency depreciation \\n(India, South Africa and Brazil, for example). In such cases, \\nwe lower our revenue growth projections. Even with these \\nadjustments, revenue expectations in emerging markets', metadata={'page': 71, 'source': 'docs/ltcma-full-report.pdf'}),\n",
       " Document(page_content='72 2023 Long-Term Capital Market Assumptions\\nEmerging markets\\nAs in previous publications, we expect EM equites to \\noutperform DM equities over our investment horizon. \\nEmerging market stocks earn revenues in regions where \\nnominal GDP is growing faster, supporting their earnings \\nstreams. This year, we update our methodology, taking a closer \\nlook at the nominal GDP growth pass-through to revenue \\ngrowth. In some cases, we acknowledge, high inflation might \\nsupport nominal GDP but hurt revenue growth in other ways. \\nThis dynamic is particularly relevant in today’s high inflation \\nenvironment, especially for countries that face persistent \\ninflation issues and steady long-term currency depreciation \\n(India, South Africa and Brazil, for example). In such cases, \\nwe lower our revenue growth projections. Even with these \\nadjustments, revenue expectations in emerging markets', metadata={'page': 71, 'source': 'docs/ltcma-full-report.pdf'}),\n",
       " Document(page_content='Emerging market debt \\nWe also see little change in our fair value assumptions \\nfor emerging market debt, although the market pricing \\nhas changed significantly over the past year. Two themes \\nstand out: Within EM sovereign debt, the world has become \\nincreasingly heterogeneous. While some regions are looking \\nvery healthy, like the Middle Eastern petroleum producers, \\nothers are still fighting inflationary pressures with ever-higher \\ninterest rates, such as in Latin America, while many frontier \\neconomies remain very much in crisis mode, fighting rising \\nfood and energy costs and political unrest. \\nThis has led to the second development, an optically high \\nstarting yield and spread. In particular, countries going through \\nrestructuring or viewed as approaching financial distress are \\nraising the index level yield, but these are more reflective of \\nnear-term default risk than long-term drivers of return through \\nspread compression. Fixed income assumptions', metadata={'page': 65, 'source': 'docs/ltcma-full-report.pdf'})]"
      ]
     },
     "execution_count": 87,
     "metadata": {},
     "output_type": "execute_result"
    }
   ],
   "source": [
    "question = \"What is their view on emerging market?\"\n",
    "docs = vectordb.similarity_search(question, k=3)\n",
    "docs"
   ]
  },
  {
   "cell_type": "code",
   "execution_count": 88,
   "metadata": {},
   "outputs": [],
   "source": [
    "from langchain.chat_models import ChatOpenAI\n",
    "llm = ChatOpenAI(model_name=llm_name, temperature=0)"
   ]
  },
  {
   "cell_type": "code",
   "execution_count": 89,
   "metadata": {},
   "outputs": [],
   "source": [
    "from langchain.chains import RetrievalQA"
   ]
  },
  {
   "cell_type": "code",
   "execution_count": 90,
   "metadata": {},
   "outputs": [],
   "source": [
    "qa_chain = RetrievalQA.from_chain_type(\n",
    "    llm,\n",
    "    retriever=vectordb.as_retriever()\n",
    ")"
   ]
  },
  {
   "cell_type": "code",
   "execution_count": 91,
   "metadata": {},
   "outputs": [],
   "source": [
    "result = qa_chain({\"query\": question})"
   ]
  },
  {
   "cell_type": "code",
   "execution_count": 92,
   "metadata": {},
   "outputs": [
    {
     "data": {
      "text/plain": [
       "{'query': 'What is their view on emerging market?',\n",
       " 'result': 'The publication expects emerging market equities to outperform DM equities over their investment horizon. Emerging market stocks earn revenues in regions where nominal GDP is growing faster, supporting their earnings streams. However, they acknowledge that high inflation might support nominal GDP but hurt revenue growth in other ways, especially for countries that face persistent inflation issues and steady long-term currency depreciation. They also see little change in their fair value assumptions for emerging market debt, although the market pricing has changed significantly over the past year.'}"
      ]
     },
     "execution_count": 92,
     "metadata": {},
     "output_type": "execute_result"
    }
   ],
   "source": [
    "result"
   ]
  },
  {
   "cell_type": "code",
   "execution_count": 93,
   "metadata": {},
   "outputs": [],
   "source": [
    "from langchain.prompts import PromptTemplate\n",
    "\n",
    "# Build prompt\n",
    "template = \"\"\"Use the following pieces of context to answer the question at the end. If you don't know the answer, just say that you don't know, don't try to make up an answer. Use three sentences maximum. Keep the answer as concise as possible. Always say \"thanks for asking!\" at the end of the answer. \n",
    "{context}\n",
    "Question: {question}\n",
    "Helpful Answer:\"\"\"\n",
    "QA_CHAIN_PROMPT = PromptTemplate.from_template(template)\n"
   ]
  },
  {
   "cell_type": "code",
   "execution_count": 94,
   "metadata": {},
   "outputs": [],
   "source": [
    "# Run chain\n",
    "qa_chain = RetrievalQA.from_chain_type(\n",
    "    llm,\n",
    "    retriever=vectordb.as_retriever(),\n",
    "    return_source_documents=True,\n",
    "    chain_type_kwargs={\"prompt\": QA_CHAIN_PROMPT}\n",
    ")"
   ]
  },
  {
   "cell_type": "code",
   "execution_count": 95,
   "metadata": {},
   "outputs": [],
   "source": [
    "result = qa_chain({\"query\": question})\n"
   ]
  },
  {
   "cell_type": "code",
   "execution_count": 96,
   "metadata": {},
   "outputs": [
    {
     "data": {
      "text/plain": [
       "{'query': 'What is their view on emerging market?',\n",
       " 'result': 'They expect EM equities to outperform DM equities over their investment horizon, and they see little change in their fair value assumptions for emerging market debt, although the market pricing has changed significantly over the past year. Thanks for asking!',\n",
       " 'source_documents': [Document(page_content='72 2023 Long-Term Capital Market Assumptions\\nEmerging markets\\nAs in previous publications, we expect EM equites to \\noutperform DM equities over our investment horizon. \\nEmerging market stocks earn revenues in regions where \\nnominal GDP is growing faster, supporting their earnings \\nstreams. This year, we update our methodology, taking a closer \\nlook at the nominal GDP growth pass-through to revenue \\ngrowth. In some cases, we acknowledge, high inflation might \\nsupport nominal GDP but hurt revenue growth in other ways. \\nThis dynamic is particularly relevant in today’s high inflation \\nenvironment, especially for countries that face persistent \\ninflation issues and steady long-term currency depreciation \\n(India, South Africa and Brazil, for example). In such cases, \\nwe lower our revenue growth projections. Even with these \\nadjustments, revenue expectations in emerging markets', metadata={'page': 71, 'source': 'docs/ltcma-full-report.pdf'}),\n",
       "  Document(page_content='72 2023 Long-Term Capital Market Assumptions\\nEmerging markets\\nAs in previous publications, we expect EM equites to \\noutperform DM equities over our investment horizon. \\nEmerging market stocks earn revenues in regions where \\nnominal GDP is growing faster, supporting their earnings \\nstreams. This year, we update our methodology, taking a closer \\nlook at the nominal GDP growth pass-through to revenue \\ngrowth. In some cases, we acknowledge, high inflation might \\nsupport nominal GDP but hurt revenue growth in other ways. \\nThis dynamic is particularly relevant in today’s high inflation \\nenvironment, especially for countries that face persistent \\ninflation issues and steady long-term currency depreciation \\n(India, South Africa and Brazil, for example). In such cases, \\nwe lower our revenue growth projections. Even with these \\nadjustments, revenue expectations in emerging markets', metadata={'page': 71, 'source': 'docs/ltcma-full-report.pdf'}),\n",
       "  Document(page_content='Emerging market debt \\nWe also see little change in our fair value assumptions \\nfor emerging market debt, although the market pricing \\nhas changed significantly over the past year. Two themes \\nstand out: Within EM sovereign debt, the world has become \\nincreasingly heterogeneous. While some regions are looking \\nvery healthy, like the Middle Eastern petroleum producers, \\nothers are still fighting inflationary pressures with ever-higher \\ninterest rates, such as in Latin America, while many frontier \\neconomies remain very much in crisis mode, fighting rising \\nfood and energy costs and political unrest. \\nThis has led to the second development, an optically high \\nstarting yield and spread. In particular, countries going through \\nrestructuring or viewed as approaching financial distress are \\nraising the index level yield, but these are more reflective of \\nnear-term default risk than long-term drivers of return through \\nspread compression. Fixed income assumptions', metadata={'page': 65, 'source': 'docs/ltcma-full-report.pdf'}),\n",
       "  Document(page_content='Emerging market debt \\nWe also see little change in our fair value assumptions \\nfor emerging market debt, although the market pricing \\nhas changed significantly over the past year. Two themes \\nstand out: Within EM sovereign debt, the world has become \\nincreasingly heterogeneous. While some regions are looking \\nvery healthy, like the Middle Eastern petroleum producers, \\nothers are still fighting inflationary pressures with ever-higher \\ninterest rates, such as in Latin America, while many frontier \\neconomies remain very much in crisis mode, fighting rising \\nfood and energy costs and political unrest. \\nThis has led to the second development, an optically high \\nstarting yield and spread. In particular, countries going through \\nrestructuring or viewed as approaching financial distress are \\nraising the index level yield, but these are more reflective of \\nnear-term default risk than long-term drivers of return through \\nspread compression. Fixed income assumptions', metadata={'page': 65, 'source': 'docs/ltcma-full-report.pdf'})]}"
      ]
     },
     "execution_count": 96,
     "metadata": {},
     "output_type": "execute_result"
    }
   ],
   "source": [
    "result"
   ]
  },
  {
   "cell_type": "code",
   "execution_count": 97,
   "metadata": {},
   "outputs": [
    {
     "data": {
      "text/plain": [
       "{'query': 'What is their view on emerging market?',\n",
       " 'result': 'They expect EM equities to outperform DM equities over their investment horizon. They believe that emerging market stocks earn revenues in regions where nominal GDP is growing faster, supporting their earnings streams. However, they acknowledge that high inflation might support nominal GDP but hurt revenue growth in other ways, especially for countries that face persistent inflation issues and steady long-term currency depreciation. In such cases, they lower their revenue growth projections. They see little change in their fair value assumptions for emerging market debt, although the market pricing has changed significantly over the past year. Within EM sovereign debt, the world has become increasingly heterogeneous.'}"
      ]
     },
     "execution_count": 97,
     "metadata": {},
     "output_type": "execute_result"
    }
   ],
   "source": [
    "qa_chain_mr = RetrievalQA.from_chain_type(\n",
    "    llm,\n",
    "    retriever=vectordb.as_retriever(),\n",
    "    chain_type=\"map_reduce\"\n",
    ")\n",
    "result = qa_chain_mr({\"query\": question})\n",
    "result"
   ]
  },
  {
   "cell_type": "code",
   "execution_count": 98,
   "metadata": {},
   "outputs": [
    {
     "data": {
      "text/plain": [
       "{'query': 'What is their view on emerging market?',\n",
       " 'result': 'The authors have a positive view on emerging market equities, expecting them to outperform developed market equities. However, they note that the emerging market debt market has become increasingly heterogeneous, with some regions looking healthy while others are fighting inflationary pressures and political unrest. This has led to an optically high starting yield and spread, particularly for countries going through restructuring or viewed as approaching financial distress. While the authors see little change in their fair value assumptions for emerging market debt, they caution that these high yields may be more reflective of near-term default risk than long-term drivers of return through spread compression. Therefore, while the authors have a positive view on emerging market equities, they are cautious about emerging market debt due to the heterogeneous nature of the market and the high yields being reflective of near-term default risk.'}"
      ]
     },
     "execution_count": 98,
     "metadata": {},
     "output_type": "execute_result"
    }
   ],
   "source": [
    "qa_chain_rf = RetrievalQA.from_chain_type(\n",
    "    llm,\n",
    "    retriever=vectordb.as_retriever(),\n",
    "    chain_type=\"refine\"\n",
    ")\n",
    "result = qa_chain_rf({\"query\": question})\n",
    "result"
   ]
  },
  {
   "cell_type": "markdown",
   "metadata": {},
   "source": [
    "# 6. Chat"
   ]
  },
  {
   "cell_type": "code",
   "execution_count": 99,
   "metadata": {},
   "outputs": [],
   "source": [
    "from langchain.vectorstores import Chroma\n",
    "from langchain.embeddings.openai import OpenAIEmbeddings\n",
    "persist_directory = 'docs/chroma/'\n",
    "embedding = OpenAIEmbeddings()\n",
    "vectordb = Chroma(persist_directory=persist_directory, embedding_function=embedding)"
   ]
  },
  {
   "cell_type": "code",
   "execution_count": 100,
   "metadata": {},
   "outputs": [
    {
     "data": {
      "text/plain": [
       "3"
      ]
     },
     "execution_count": 100,
     "metadata": {},
     "output_type": "execute_result"
    }
   ],
   "source": [
    "question = \"What is their view on emerging market?\"\n",
    "docs = vectordb.similarity_search(question,k=3)\n",
    "len(docs)"
   ]
  },
  {
   "cell_type": "code",
   "execution_count": 101,
   "metadata": {},
   "outputs": [
    {
     "data": {
      "text/plain": [
       "'Hello there! How can I assist you today?'"
      ]
     },
     "execution_count": 101,
     "metadata": {},
     "output_type": "execute_result"
    }
   ],
   "source": [
    "from langchain.chat_models import ChatOpenAI\n",
    "llm = ChatOpenAI(model_name=llm_name, temperature=0)\n",
    "llm.predict(\"Hello world!\")"
   ]
  },
  {
   "cell_type": "code",
   "execution_count": 102,
   "metadata": {},
   "outputs": [
    {
     "data": {
      "text/plain": [
       "'Based on the information provided, the report expects EM equities to outperform DM equities over the investment horizon, but there are concerns about high inflation and currency depreciation in some countries that may affect revenue growth projections. As for emerging market debt, the world has become increasingly heterogeneous, with some regions looking healthy while others are still fighting inflationary pressures and political unrest. The report sees little change in fair value assumptions for emerging market debt, but notes that there are optically high starting yields and spreads. Overall, the report provides some insights into the opportunities and risks of investing in emerging markets, but it is up to individual investors to make their own decisions based on their risk tolerance and investment goals. Thanks for asking!'"
      ]
     },
     "execution_count": 102,
     "metadata": {},
     "output_type": "execute_result"
    }
   ],
   "source": [
    "# Build prompt\n",
    "from langchain.prompts import PromptTemplate\n",
    "template = \"\"\"Use the following pieces of context to answer the question at the end. If you don't know the answer, just say that you don't know, don't try to make up an answer. Use three sentences maximum. Keep the answer as concise as possible. Always say \"thanks for asking!\" at the end of the answer. \n",
    "{context}\n",
    "Question: {question}\n",
    "Helpful Answer:\"\"\"\n",
    "QA_CHAIN_PROMPT = PromptTemplate(input_variables=[\"context\", \"question\"],template=template,)\n",
    "\n",
    "# Run chain\n",
    "from langchain.chains import RetrievalQA\n",
    "question = \"Is investing in emerging market good?\"\n",
    "qa_chain = RetrievalQA.from_chain_type(llm,\n",
    "                                       retriever=vectordb.as_retriever(),\n",
    "                                       return_source_documents=True,\n",
    "                                       chain_type_kwargs={\"prompt\": QA_CHAIN_PROMPT})\n",
    "\n",
    "\n",
    "result = qa_chain({\"query\": question})\n",
    "result[\"result\"]"
   ]
  },
  {
   "cell_type": "code",
   "execution_count": 103,
   "metadata": {},
   "outputs": [],
   "source": [
    "from langchain.memory import ConversationBufferMemory\n",
    "memory = ConversationBufferMemory(\n",
    "    memory_key=\"chat_history\",\n",
    "    return_messages=True\n",
    ")"
   ]
  },
  {
   "cell_type": "code",
   "execution_count": 104,
   "metadata": {},
   "outputs": [],
   "source": [
    "from langchain.chains import ConversationalRetrievalChain\n",
    "retriever=vectordb.as_retriever()\n",
    "qa = ConversationalRetrievalChain.from_llm(\n",
    "    llm,\n",
    "    retriever=retriever,\n",
    "    memory=memory\n",
    ")"
   ]
  },
  {
   "cell_type": "code",
   "execution_count": 105,
   "metadata": {},
   "outputs": [],
   "source": [
    "question = \"Is investing in emerging market good?\"\n",
    "result = qa({\"question\": question})"
   ]
  },
  {
   "cell_type": "code",
   "execution_count": 106,
   "metadata": {},
   "outputs": [
    {
     "data": {
      "text/plain": [
       "'Based on the information provided, the report expects EM equities to outperform DM equities over their investment horizon. However, it also notes that there are risks and challenges in emerging markets, such as high inflation and political unrest, that could affect revenue growth and debt. Therefore, investing in emerging markets may have potential benefits, but it also involves risks that should be carefully considered. It is recommended to consult with a financial advisor before making any investment decisions.'"
      ]
     },
     "execution_count": 106,
     "metadata": {},
     "output_type": "execute_result"
    }
   ],
   "source": [
    "result[\"answer\"]"
   ]
  },
  {
   "cell_type": "code",
   "execution_count": 107,
   "metadata": {},
   "outputs": [],
   "source": [
    "question = \"Why is it so?\"\n",
    "result = qa({\"question\": question})"
   ]
  },
  {
   "cell_type": "code",
   "execution_count": 108,
   "metadata": {},
   "outputs": [
    {
     "data": {
      "text/plain": [
       "\"The given context does not provide a direct answer to the user's question. However, it does provide some information on emerging market local currencies and credit. It suggests that emerging market local currencies are historically attractive due to the strength in the US dollar and the rise in local yields through tighter monetary policy. However, timing is crucial, and continued dollar strength could create further local, periodic market stress. In emerging market credit, the composition of the J.P. Morgan Broad Diversified Core Index is expected to remain stable, and long-term default and recovery rates are expected to remain close to historical levels. \\n\\nRegarding the user's question, investing in emerging markets can offer attractive risk-adjusted returns, but it also involves risks such as political instability, currency fluctuations, and liquidity risks. Therefore, it is recommended to consult with a financial advisor before making any investment decisions to understand the potential benefits and risks and make informed investment decisions based on individual financial goals and risk tolerance.\""
      ]
     },
     "execution_count": 108,
     "metadata": {},
     "output_type": "execute_result"
    }
   ],
   "source": [
    "result[\"answer\"]"
   ]
  },
  {
   "cell_type": "code",
   "execution_count": 110,
   "metadata": {},
   "outputs": [
    {
     "data": {
      "text/plain": [
       "'Yes, according to the context provided, investing in emerging markets can offer historically attractive levels due to the strength of the US dollar and the rise in local yields through tighter monetary policy. However, timing is important due to ongoing tightening of financial conditions. Continued dollar strength could create further local, periodic market stress, despite the much-improved valuation levels today. In terms of emerging market credit, the composition of the J.P. Morgan Broad Diversified Core Index (CEMBI CORE) is expected to remain stable, and long-term default and recovery rates are expected to remain close to historical levels. \\n\\nIn the near term, tilts to credit sectors and international equity may offer attractive risk-adjusted returns, while lower volatility alternatives and short-duration fixed income help to manage risk and preserve liquidity. However, the potential for a more positively correlated market environment requires vigilance around the distribution of risk across portfolios. The emergence of a new macroeconomic regime presents an opportunity for investors to stress-test their allocation process and implement changes that will support risk-adjusted returns over multiple horizons.'"
      ]
     },
     "execution_count": 110,
     "metadata": {},
     "output_type": "execute_result"
    }
   ],
   "source": [
    "question = \"Your answer is too vague. I need more concrete response. Can you do that?\"\n",
    "result = qa({\"question\": question})\n",
    "result[\"answer\"]"
   ]
  }
 ],
 "metadata": {
  "interpreter": {
   "hash": "4d58a963836dd33eb5ff9b59551588ae2893d322de45909ccc768763140b4d5f"
  },
  "kernelspec": {
   "display_name": "Python 3.9.10 64-bit ('research')",
   "language": "python",
   "name": "python3"
  },
  "language_info": {
   "codemirror_mode": {
    "name": "ipython",
    "version": 3
   },
   "file_extension": ".py",
   "mimetype": "text/x-python",
   "name": "python",
   "nbconvert_exporter": "python",
   "pygments_lexer": "ipython3",
   "version": "3.9.10"
  },
  "orig_nbformat": 4
 },
 "nbformat": 4,
 "nbformat_minor": 2
}
